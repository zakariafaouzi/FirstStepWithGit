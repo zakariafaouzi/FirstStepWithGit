{
 "cells": [
  {
   "cell_type": "code",
   "execution_count": 1,
   "metadata": {},
   "outputs": [],
   "source": [
    "# Import librairies\n",
    "\n",
    "import numpy as np\n",
    "import pandas as pd\n",
    "import doctest"
   ]
  },
  {
   "cell_type": "markdown",
   "metadata": {},
   "source": [
    "### Exercice 1: (Check Palindrome)\n"
   ]
  },
  {
   "cell_type": "code",
   "execution_count": 2,
   "metadata": {},
   "outputs": [],
   "source": [
    "def palindrome(chaine : str) -> bool:\n",
    "    \"\"\"_summary_\n",
    "\n",
    "    Args:\n",
    "        chaine (str): _description_\n",
    "\n",
    "    Returns:\n",
    "        bool: _description_\n",
    "    >>> palindrome(\"zakaria\")\n",
    "    False\n",
    "    >>> palindrome(\"abcdcba\")\n",
    "    True\n",
    "    >>> palindrome(\" \")\n",
    "    True\n",
    "    >>> palindrome(\"waaw\")\n",
    "    True\n",
    "    >>> palindrome(\" cakkac\")\n",
    "    False\n",
    "    \"\"\"\n",
    "    return chaine == chaine[::-1]"
   ]
  },
  {
   "cell_type": "code",
   "execution_count": 3,
   "metadata": {},
   "outputs": [],
   "source": [
    "def palindrome_v2(chaine : str) -> bool:\n",
    "    \"\"\"_summary_\n",
    "\n",
    "    Args:\n",
    "        chaine (str): _description_\n",
    "\n",
    "    Returns:\n",
    "        bool: _description_\n",
    "    >>> palindrome_v2(\"zakaria\")\n",
    "    False\n",
    "    >>> palindrome_v2(\"abcdcba\")\n",
    "    True\n",
    "    >>> palindrome_v2(\" \")\n",
    "    True\n",
    "    >>> palindrome_v2(\"waaw\")\n",
    "    True\n",
    "    >>> palindrome_v2(\" cakkac\")\n",
    "    False\n",
    "    \"\"\"\n",
    "    i = 0\n",
    "    j = len(chaine)-1\n",
    "    while i<j:\n",
    "        if chaine[i] != chaine[j]:\n",
    "            return False\n",
    "        else:\n",
    "            i += 1\n",
    "            j -= 1\n",
    "    return True\n",
    "    "
   ]
  },
  {
   "cell_type": "code",
   "execution_count": 4,
   "metadata": {},
   "outputs": [
    {
     "data": {
      "text/plain": [
       "TestResults(failed=0, attempted=10)"
      ]
     },
     "execution_count": 4,
     "metadata": {},
     "output_type": "execute_result"
    }
   ],
   "source": [
    "doctest.testmod()"
   ]
  },
  {
   "cell_type": "markdown",
   "metadata": {},
   "source": [
    "### Exercice 2: (Median of two sorted arrays)\n",
    "\n",
    "Given two sorted arrays nums1 and nums2 of size m and n respectively, return the median of the two sorted arrays.\n",
    "\n",
    "The overall run time complexity should be O(log (m+n))."
   ]
  },
  {
   "cell_type": "code",
   "execution_count": 5,
   "metadata": {},
   "outputs": [],
   "source": [
    "class solution():\n",
    "\n",
    "    def findMedianSortedArrays(self, array1:list[int], array2:list[int])-> float:\n",
    "        \"\"\"_summary_\n",
    "\n",
    "        Args:\n",
    "            array1 (list[int]): _description_\n",
    "            array2 (list[int]): _description_\n",
    "\n",
    "        Returns:\n",
    "            float: _description_\n",
    "        \"\"\"\n",
    "        merge_arrays = sorted(array1+array2)\n",
    "\n",
    "        if len(merge_arrays)%2 == 0:\n",
    "            index = (len(merge_arrays)//2)-1\n",
    "            return (merge_arrays[index] + merge_arrays[index+1])/2\n",
    "        else:\n",
    "            index = len(merge_arrays)//2\n",
    "            return merge_arrays[index]\n"
   ]
  },
  {
   "cell_type": "code",
   "execution_count": 6,
   "metadata": {},
   "outputs": [
    {
     "data": {
      "text/plain": [
       "2.5"
      ]
     },
     "execution_count": 6,
     "metadata": {},
     "output_type": "execute_result"
    }
   ],
   "source": [
    "obj = solution()\n",
    "ma_liste1 = [1, 2]\n",
    "ma_liste2 = [3, 4]\n",
    "obj.findMedianSortedArrays(ma_liste1, ma_liste2)"
   ]
  }
 ],
 "metadata": {
  "kernelspec": {
   "display_name": "Python 3",
   "language": "python",
   "name": "python3"
  },
  "language_info": {
   "codemirror_mode": {
    "name": "ipython",
    "version": 3
   },
   "file_extension": ".py",
   "mimetype": "text/x-python",
   "name": "python",
   "nbconvert_exporter": "python",
   "pygments_lexer": "ipython3",
   "version": "3.12.5"
  }
 },
 "nbformat": 4,
 "nbformat_minor": 2
}
