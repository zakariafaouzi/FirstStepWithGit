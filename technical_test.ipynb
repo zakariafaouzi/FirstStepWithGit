{
 "cells": [
  {
   "cell_type": "code",
   "execution_count": 12,
   "metadata": {},
   "outputs": [],
   "source": [
    "# Import librairies\n",
    "\n",
    "import numpy as np\n",
    "import pandas as pd\n",
    "import doctest"
   ]
  },
  {
   "cell_type": "markdown",
   "metadata": {},
   "source": [
    "### Exercice 1: (Check Palindrome)\n",
    "\n"
   ]
  },
  {
   "cell_type": "code",
   "execution_count": 37,
   "metadata": {},
   "outputs": [],
   "source": [
    "def palindrome(chaine : str) -> bool:\n",
    "    \"\"\"_summary_\n",
    "\n",
    "    Args:\n",
    "        chaine (str): _description_\n",
    "\n",
    "    Returns:\n",
    "        bool: _description_\n",
    "    >>> palindrome(\"zakaria\")\n",
    "    False\n",
    "    >>> palindrome(\"abcdcba\")\n",
    "    True\n",
    "    >>> palindrome(\" \")\n",
    "    True\n",
    "    >>> palindrome(\"waaw\")\n",
    "    True\n",
    "    >>> palindrome(\" cakkac\")\n",
    "    False\n",
    "    \"\"\"\n",
    "    return chaine == chaine[::-1]"
   ]
  },
  {
   "cell_type": "code",
   "execution_count": 39,
   "metadata": {},
   "outputs": [],
   "source": [
    "def palindrome_v2(chaine : str) -> bool:\n",
    "    \"\"\"_summary_\n",
    "\n",
    "    Args:\n",
    "        chaine (str): _description_\n",
    "\n",
    "    Returns:\n",
    "        bool: _description_\n",
    "    >>> palindrome_v2(\"zakaria\")\n",
    "    False\n",
    "    >>> palindrome_v2(\"abcdcba\")\n",
    "    True\n",
    "    >>> palindrome_v2(\" \")\n",
    "    True\n",
    "    >>> palindrome_v2(\"waaw\")\n",
    "    True\n",
    "    >>> palindrome_v2(\" cakkac\")\n",
    "    False\n",
    "    \"\"\"\n",
    "    i = 0\n",
    "    j = len(chaine)-1\n",
    "    while i<j:\n",
    "        if chaine[i] != chaine[j]:\n",
    "            return False\n",
    "        else:\n",
    "            i += 1\n",
    "            j -= 1\n",
    "    return True\n",
    "    "
   ]
  },
  {
   "cell_type": "code",
   "execution_count": 40,
   "metadata": {},
   "outputs": [
    {
     "data": {
      "text/plain": [
       "TestResults(failed=0, attempted=10)"
      ]
     },
     "execution_count": 40,
     "metadata": {},
     "output_type": "execute_result"
    }
   ],
   "source": [
    "doctest.testmod()"
   ]
  },
  {
   "cell_type": "markdown",
   "metadata": {},
   "source": [
    "### Exercice 2: (Median of two sorted arrays)\n",
    "\n",
    "Given two sorted arrays nums1 and nums2 of size m and n respectively, return the median of the two sorted arrays.\n",
    "\n",
    "The overall run time complexity should be O(log (m+n))."
   ]
  },
  {
   "cell_type": "code",
   "execution_count": 51,
   "metadata": {},
   "outputs": [],
   "source": [
    "class solution():\n",
    "\n",
    "    def findMedianSortedArrays(self, array1:list[int], array2:list[int])-> float:\n",
    "        \"\"\"_summary_\n",
    "\n",
    "        Args:\n",
    "            array1 (list[int]): _description_\n",
    "            array2 (list[int]): _description_\n",
    "\n",
    "        Returns:\n",
    "            float: _description_\n",
    "        \"\"\"\n",
    "        merge_arrays = sorted(array1+array2)\n",
    "\n",
    "        if len(merge_arrays)%2 == 0:\n",
    "            index = (len(merge_arrays)//2)-1\n",
    "            return (merge_arrays[index] + merge_arrays[index+1])/2\n",
    "        else:\n",
    "            index = len(merge_arrays)//2\n",
    "            return merge_arrays[index]\n"
   ]
  },
  {
   "cell_type": "code",
   "execution_count": 52,
   "metadata": {},
   "outputs": [
    {
     "data": {
      "text/plain": [
       "2.5"
      ]
     },
     "execution_count": 52,
     "metadata": {},
     "output_type": "execute_result"
    }
   ],
   "source": [
    "obj = solution()\n",
    "ma_liste1 = [1, 2]\n",
    "ma_liste2 = [3, 4]\n",
    "obj.findMedianSortedArrays(ma_liste1, ma_liste2)"
   ]
  },
  {
   "cell_type": "markdown",
   "metadata": {},
   "source": [
    "### Exercice 3: (Reverse Words in a Sentence)"
   ]
  },
  {
   "cell_type": "code",
   "execution_count": 5,
   "metadata": {},
   "outputs": [],
   "source": [
    "def reversed_words(sentence: str) -> str:\n",
    "    \"\"\"_summary_\n",
    "\n",
    "    Args:\n",
    "        word (str): _description_\n",
    "\n",
    "    Returns:\n",
    "        str: _description_\n",
    "        \n",
    "    \"\"\"\n",
    "    words = sentence.split()\n",
    "    reversed_sentence = ' '.join(reversed(words))\n",
    "    return reversed_sentence\n",
    "\n"
   ]
  },
  {
   "cell_type": "code",
   "execution_count": 7,
   "metadata": {},
   "outputs": [
    {
     "data": {
      "text/plain": [
       "'this all with blablacar'"
      ]
     },
     "execution_count": 7,
     "metadata": {},
     "output_type": "execute_result"
    }
   ],
   "source": [
    "reversed_words(\"blablacar with all this\")"
   ]
  },
  {
   "cell_type": "markdown",
   "metadata": {},
   "source": [
    "### 2. Maximum Subarray Sum\n",
    "\n",
    "This question asks the developer to find the maximum sum of a subarray within a given array. Questions like this can be helpful for demonstrating a mastery of skills like analytical thinking optimization, algorithms, and array manipulation. \n",
    "\n",
    "__Task:__ Write a Python function called max_subarray_sum that takes an array of integers as input and returns the maximum sum of any contiguous subarray within the array.\n",
    "\n",
    "__Input Format:__ The input will be a list of integers.\n",
    "\n",
    "__Constraints:__\n",
    "\n",
    "The length of the array will be at least 1.\n",
    "The array may contain both positive and negative integers.\n",
    "\n",
    "__Output Format:__ The output will be a single integer representing the maximum sum of a subarray.\n",
    "\n",
    "__Sample Input:__ [1, 2, 3, -2, 5]\n",
    "\n",
    "__Sample Output:__ 9"
   ]
  },
  {
   "cell_type": "code",
   "execution_count": 17,
   "metadata": {},
   "outputs": [],
   "source": [
    "def max_subarray_sum(array: list) -> int:\n",
    "    \"\"\"Nous pourrons utiliser l'algorithme de Kadane\n",
    "\n",
    "    Args:\n",
    "        array (list): _description_\n",
    "\n",
    "    Returns:\n",
    "        int: _description_\n",
    "    \"\"\"\n",
    "    actual_somme = array[0]\n",
    "    actual_max = array[0]\n",
    "    for indice in range(1, len(array)):\n",
    "        actual_somme = max(array[indice], actual_somme + array[indice])\n",
    "        actual_max = max(actual_max, actual_somme)\n",
    "    return actual_max"
   ]
  },
  {
   "cell_type": "code",
   "execution_count": 18,
   "metadata": {},
   "outputs": [
    {
     "data": {
      "text/plain": [
       "9"
      ]
     },
     "execution_count": 18,
     "metadata": {},
     "output_type": "execute_result"
    }
   ],
   "source": [
    "L = [1, 2, 3, -2, 5]\n",
    "max_subarray_sum(L)"
   ]
  },
  {
   "cell_type": "markdown",
   "metadata": {},
   "source": [
    "L'algorithme de Kadane est une méthode optimisée pour résoudre le problème de la somme maximale d'un sous-tableau (subarray maximum sum problem). Il permet de trouver la somme maximale d'un sous-ensemble contigu d'un tableau en temps linéaire 𝑂(𝑛), ce qui signifie qu'il ne nécessite qu'un seul passage sur le tableau\n",
    "\n",
    "##### Principe de base:\n",
    "\n",
    "L'idée derrière l'algorithme de Kadane est de parcourir le tableau une seule fois tout en maintenant deux informations importantes :\n",
    "\n",
    "__La somme maximale actuelle (current_max) :__ la somme maximale du sous-tableau qui se termine à l'indice actuel.\n",
    "\n",
    "__La somme maximale globale (max_so_far) :__ la plus grande somme trouvée parmi tous les sous-tableaux rencontrés jusqu'à présent."
   ]
  },
  {
   "cell_type": "markdown",
   "metadata": {},
   "source": [
    "### Exercice 4: (Merge Intervals)"
   ]
  },
  {
   "cell_type": "markdown",
   "metadata": {},
   "source": [
    "Cette question se concentre sur la fusion des intervalles qui se chevauchent dans une liste donnée, ce qui permet aux recruteurs de comprendre la capacité d'un développeur à décomposer un problème complexe, identifier des motifs, et concevoir des solutions efficaces en utilisant des constructions de programmation telles que les boucles, les conditions, et les opérations de manipulation de listes.\n",
    "\n",
    "__Tâche :__ Écrire une fonction Python appelée __merge_intervals__ qui prend en entrée une liste d'intervalles et renvoie une nouvelle liste d'intervalles où les intervalles qui se chevauchent sont fusionnés.\n",
    "\n",
    "__Format d'entrée :__ L'entrée sera une liste d'intervalles, où chaque intervalle est représenté par une liste contenant deux éléments : le point de départ et le point de fin de l'intervalle.\n",
    "\n",
    "__Contraintes :__\n",
    "\n",
    "- La liste des intervalles ne sera pas vide.\n",
    "- Les points de départ et de fin de chaque intervalle seront des entiers.\n",
    "\n",
    "__Format de sortie :__ La sortie sera une liste d'intervalles fusionnés, où chaque intervalle est représenté par une liste contenant deux éléments : le point de départ et le point de fin de l'intervalle fusionné.\n",
    "\n",
    "__Exemple d'entrée :__ [[1, 3], [2, 6], [8, 10], [15, 18]]\n",
    "\n",
    "__Exemple de sortie :__ [[1, 6], [8, 10], [15, 18]]"
   ]
  },
  {
   "cell_type": "code",
   "execution_count": 36,
   "metadata": {},
   "outputs": [],
   "source": [
    "def merge_intervals(intervals):\n",
    "    if not intervals:\n",
    "        return []\n",
    "    \n",
    "    # Étape 1 : Trier les intervalles par leur début\n",
    "    intervals.sort(key=lambda x: x[0])\n",
    "    \n",
    "    # Étape 2 : Initialiser la liste des intervalles fusionnés\n",
    "    merged = []\n",
    "    \n",
    "    # Étape 3 : Parcourir les intervalles et les fusionner si nécessaire\n",
    "    for interval in intervals:\n",
    "        # Si la liste des intervalles fusionnés est vide ou si le dernier intervalle fusionné ne se chevauche pas avec l'intervalle actuel, ajoutez-le simplement.\n",
    "        if not merged or merged[-1][1] < interval[0]:\n",
    "            merged.append(interval)\n",
    "        else:\n",
    "            # Sinon, fusionnez les deux intervalles en mettant à jour le point de fin\n",
    "            merged[-1][1] = max(merged[-1][1], interval[1])\n",
    "    \n",
    "    return merged\n"
   ]
  },
  {
   "cell_type": "code",
   "execution_count": 37,
   "metadata": {},
   "outputs": [
    {
     "data": {
      "text/plain": [
       "[[1, 6], [8, 10], [15, 18]]"
      ]
     },
     "execution_count": 37,
     "metadata": {},
     "output_type": "execute_result"
    }
   ],
   "source": [
    "test = [[1, 3], [2, 6], [8, 10], [15, 18]]\n",
    "merge_intervals(test)"
   ]
  },
  {
   "cell_type": "markdown",
   "metadata": {},
   "source": [
    "##### Approche\n",
    "\n",
    "L'approche pour résoudre ce problème est la suivante :\n",
    "\n",
    "__Trier les intervalles :__ Commencez par trier les intervalles en fonction de leur valeur de début (start). Cela permet de simplifier la fusion des intervalles, car un intervalle ne peut se chevaucher qu'avec les intervalles qui viennent juste après lui dans un ordre trié.\n",
    "\n",
    "__Fusionner les intervalles :__ Parcourez les intervalles triés et, pour chaque intervalle, vérifiez s'il se chevauche avec le dernier intervalle ajouté à la liste fusionnée :\n",
    "\n",
    "Si c'est le cas (si l'intervalle actuel commence avant que le dernier ne se termine), fusionnez-les en prenant le maximum de leurs points de fin.\n",
    "Sinon, ajoutez l'intervalle actuel à la liste des intervalles fusionnés."
   ]
  },
  {
   "cell_type": "code",
   "execution_count": null,
   "metadata": {},
   "outputs": [],
   "source": [
    "def throw(str):\n",
    "    return str"
   ]
  }
 ],
 "metadata": {
  "kernelspec": {
   "display_name": "Python 3",
   "language": "python",
   "name": "python3"
  },
  "language_info": {
   "codemirror_mode": {
    "name": "ipython",
    "version": 3
   },
   "file_extension": ".py",
   "mimetype": "text/x-python",
   "name": "python",
   "nbconvert_exporter": "python",
   "pygments_lexer": "ipython3",
   "version": "3.12.5"
  }
 },
 "nbformat": 4,
 "nbformat_minor": 2
}
