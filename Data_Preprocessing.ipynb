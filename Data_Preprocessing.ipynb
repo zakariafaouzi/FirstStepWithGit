{
 "cells": [
  {
   "cell_type": "code",
   "execution_count": 76,
   "metadata": {},
   "outputs": [],
   "source": [
    "import numpy as np\n",
    "import pandas as pd\n",
    "import datetime\n",
    "import matplotlib.pyplot as plt\n",
    "\n",
    "# Path of our data\n",
    "path = r\"C:\\Users\\Zakaria-Laptop\\FirstStepWithGit\\data\\customer_data.csv\""
   ]
  },
  {
   "cell_type": "code",
   "execution_count": 46,
   "metadata": {},
   "outputs": [
    {
     "data": {
      "text/html": [
       "<div>\n",
       "<style scoped>\n",
       "    .dataframe tbody tr th:only-of-type {\n",
       "        vertical-align: middle;\n",
       "    }\n",
       "\n",
       "    .dataframe tbody tr th {\n",
       "        vertical-align: top;\n",
       "    }\n",
       "\n",
       "    .dataframe thead th {\n",
       "        text-align: right;\n",
       "    }\n",
       "</style>\n",
       "<table border=\"1\" class=\"dataframe\">\n",
       "  <thead>\n",
       "    <tr style=\"text-align: right;\">\n",
       "      <th></th>\n",
       "      <th>CustomerID</th>\n",
       "      <th>Name</th>\n",
       "      <th>Gender</th>\n",
       "      <th>Age</th>\n",
       "      <th>Email</th>\n",
       "      <th>JoinDate</th>\n",
       "      <th>PurchaseAmount</th>\n",
       "      <th>LastLogin</th>\n",
       "    </tr>\n",
       "  </thead>\n",
       "  <tbody>\n",
       "    <tr>\n",
       "      <th>0</th>\n",
       "      <td>1001</td>\n",
       "      <td>Customer 1</td>\n",
       "      <td>NaN</td>\n",
       "      <td>65.0</td>\n",
       "      <td>customer1@example.com</td>\n",
       "      <td>2020-07-23</td>\n",
       "      <td>909.33</td>\n",
       "      <td>2024-03-14</td>\n",
       "    </tr>\n",
       "    <tr>\n",
       "      <th>1</th>\n",
       "      <td>1002</td>\n",
       "      <td>Customer 2</td>\n",
       "      <td>NaN</td>\n",
       "      <td>18.0</td>\n",
       "      <td>customer2@example.com</td>\n",
       "      <td>NaN</td>\n",
       "      <td>771.89</td>\n",
       "      <td>NaN</td>\n",
       "    </tr>\n",
       "  </tbody>\n",
       "</table>\n",
       "</div>"
      ],
      "text/plain": [
       "   CustomerID        Name Gender   Age                  Email    JoinDate  \\\n",
       "0        1001  Customer 1    NaN  65.0  customer1@example.com  2020-07-23   \n",
       "1        1002  Customer 2    NaN  18.0  customer2@example.com         NaN   \n",
       "\n",
       "   PurchaseAmount   LastLogin  \n",
       "0          909.33  2024-03-14  \n",
       "1          771.89         NaN  "
      ]
     },
     "execution_count": 46,
     "metadata": {},
     "output_type": "execute_result"
    }
   ],
   "source": [
    "def read_data(path: str)-> pd.DataFrame:\n",
    "    return pd.read_csv(path)\n",
    "\n",
    "df = read_data(path)\n",
    "df.head(2)"
   ]
  },
  {
   "cell_type": "markdown",
   "metadata": {},
   "source": [
    "## La base de données\n",
    "\n",
    "- CustomerID : Identifiant unique du client\n",
    "- Name : Nom du client\n",
    "- Gender : Genre du client (M, F, null)\n",
    "- Age : Âge du client (peut contenir des valeurs aberrantes ou manquantes)\n",
    "- Email : Adresse e-mail du client\n",
    "- JoinDate : Date d'inscription au service (peut contenir des formats incorrects)\n",
    "- PurchaseAmount : Montant des achats (peut contenir des valeurs manquantes ou incorrectes)\n",
    "- LastLogin : Dernière date de connexion (peut contenir des valeurs nulles)"
   ]
  },
  {
   "cell_type": "markdown",
   "metadata": {},
   "source": [
    "## Niveau - 1: Basique"
   ]
  },
  {
   "cell_type": "code",
   "execution_count": 47,
   "metadata": {},
   "outputs": [
    {
     "name": "stdout",
     "output_type": "stream",
     "text": [
      "le nombre de lignes dans cette base de données est: 50 et le nombre des colonnes est: 8\n",
      "les valeurs manquantes de chaques colonnes: \n",
      " CustomerID         0\n",
      "Name               0\n",
      "Gender            14\n",
      "Age               12\n",
      "Email              0\n",
      "JoinDate          20\n",
      "PurchaseAmount    18\n",
      "LastLogin         29\n",
      "dtype: int64\n",
      "\n",
      "Après remplacement des valeurs manquantes :\n",
      "CustomerID         0\n",
      "Name               0\n",
      "Gender             0\n",
      "Age                0\n",
      "Email              0\n",
      "JoinDate          20\n",
      "PurchaseAmount     0\n",
      "LastLogin         29\n",
      "dtype: int64\n"
     ]
    }
   ],
   "source": [
    "# Combien de lignes et de colonnes contient la base de données\n",
    "print(f\"le nombre de lignes dans cette base de données est: {df.shape[0]} et le nombre des colonnes est: {df.shape[1]}\")\n",
    "\n",
    "# Identifie s'il y'a des valeurs manquantes dans chaque colonne\n",
    "print(\"les valeurs manquantes de chaques colonnes: \\n\", df.isna().sum())\n",
    "\n",
    "# Gestion des valeurs manquantes\n",
    "\n",
    "# 1- Remplacez les valeurs manquantes de la colonne \"Gender\" par \"Unknown\"\n",
    "df[\"Gender\"].fillna(\"Unknown\", inplace=True)\n",
    "# 2- Remplacez Nan sur Age par la médiane des ages\n",
    "df[\"Age\"].fillna(df[\"Age\"].median(), inplace=True)\n",
    "# 3- Remplissez les Nans de \"PurchaseAmount\" par la moyenne.\n",
    "df[\"PurchaseAmount\"].fillna(df[\"PurchaseAmount\"].median(), inplace=True)\n",
    "\n",
    "# Vérifier les modifications\n",
    "print(\"\\nAprès remplacement des valeurs manquantes :\")\n",
    "print(df.isna().sum())"
   ]
  },
  {
   "cell_type": "markdown",
   "metadata": {},
   "source": [
    "## Niveau 2: Intermédiaire\n"
   ]
  },
  {
   "cell_type": "code",
   "execution_count": 84,
   "metadata": {},
   "outputs": [
    {
     "name": "stdout",
     "output_type": "stream",
     "text": [
      "Le nombre des doublons dans la colonne 'CustomerID' est:  0\n",
      "Lower_bound is equal: -18.25 and our upper bound is: 105.75\n",
      "\n",
      "Valeurs aberrantes corrigées dans 'Age' et 'PurchaseAmount' :\n",
      "             Age  PurchaseAmount\n",
      "count  50.000000       50.000000\n",
      "mean   45.840000      503.857800\n",
      "std    21.688293      246.192552\n",
      "min     3.000000       40.380000\n",
      "25%    28.250000      382.007500\n",
      "50%    48.000000      525.540000\n",
      "75%    59.250000      594.942500\n",
      "max    95.000000      981.010000\n"
     ]
    }
   ],
   "source": [
    "# 1 - Suppression des doublons\n",
    "print(\"Le nombre des doublons dans la colonne 'CustomerID' est: \", df[\"CustomerID\"].duplicated().sum())\n",
    "df.drop_duplicates(subset=\"CustomerID\", inplace=True)\n",
    "\n",
    "# 2 - Formatage des colonnes\n",
    "# Assurez que la colonne \"JoinDate\" soit bien au format datetime\n",
    "df[\"JoinDate\"] = pd.to_datetime(df[\"JoinDate\"], errors=\"coerce\")\n",
    "\n",
    "# Convertis la colonne \"LastLogin\" en datetime et remplace Nans par la date la plus ancienne.\n",
    "df[\"LastLogin\"] = pd.to_datetime(df[\"LastLogin\"], errors=\"coerce\")\n",
    "last_date = df[\"LastLogin\"].min()\n",
    "df[\"LastLogin\"].fillna(last_date, inplace=True)\n",
    "\n",
    "# Correction des erreurs dans les données\n",
    "# 1- Identifie et supprime les valeurs aberrantes dans la colonne \"Age\" (ex. : âges négatifs ou trop élevés).\n",
    "\n",
    "Q1 = df[\"Age\"].quantile(0.25)\n",
    "Q3 = df[\"Age\"].quantile(0.75)\n",
    "IQR = Q3 - Q1\n",
    "\n",
    "lower_bound = Q1 - 1.5*IQR\n",
    "upper_bound = Q3 + 1.5*IQR\n",
    "\n",
    "print(f\"Lower_bound is equal: {lower_bound} and our upper bound is: {upper_bound}\")\n",
    "df = df[(df[\"Age\"]>lower_bound)&(df[\"Age\"]<upper_bound)]\n",
    "\n",
    "# Normaliser les montants d'achat : rendre tous les montants négatifs positifs\n",
    "df['PurchaseAmount'] = df['PurchaseAmount'].abs()\n",
    "\n",
    "print(\"\\nValeurs aberrantes corrigées dans 'Age' et 'PurchaseAmount' :\")\n",
    "print(df[['Age', 'PurchaseAmount']].describe())"
   ]
  },
  {
   "cell_type": "markdown",
   "metadata": {},
   "source": [
    "- __errors=\"raise\"__ : Par défaut, cela provoque une erreur si une date invalide est rencontrée.\n",
    "\n",
    "- __errors=\"ignore\"__ : Ignore les erreurs et renvoie les valeurs d'origine non modifiées.\n",
    "\n",
    "- __errors=\"coerce\"__ : Remplace les valeurs invalides par NaT."
   ]
  }
 ],
 "metadata": {
  "kernelspec": {
   "display_name": "Python 3",
   "language": "python",
   "name": "python3"
  },
  "language_info": {
   "codemirror_mode": {
    "name": "ipython",
    "version": 3
   },
   "file_extension": ".py",
   "mimetype": "text/x-python",
   "name": "python",
   "nbconvert_exporter": "python",
   "pygments_lexer": "ipython3",
   "version": "3.12.5"
  }
 },
 "nbformat": 4,
 "nbformat_minor": 2
}
