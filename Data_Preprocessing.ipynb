{
 "cells": [
  {
   "cell_type": "code",
   "execution_count": 135,
   "metadata": {},
   "outputs": [],
   "source": [
    "import numpy as np\n",
    "import pandas as pd\n",
    "import datetime\n",
    "import matplotlib.pyplot as plt\n",
    "\n",
    "# Path of our data\n",
    "path = r\"C:\\Users\\Zakaria-Laptop\\FirstStepWithGit\\data\\customer_data.csv\""
   ]
  },
  {
   "cell_type": "code",
   "execution_count": 136,
   "metadata": {},
   "outputs": [
    {
     "data": {
      "text/html": [
       "<div>\n",
       "<style scoped>\n",
       "    .dataframe tbody tr th:only-of-type {\n",
       "        vertical-align: middle;\n",
       "    }\n",
       "\n",
       "    .dataframe tbody tr th {\n",
       "        vertical-align: top;\n",
       "    }\n",
       "\n",
       "    .dataframe thead th {\n",
       "        text-align: right;\n",
       "    }\n",
       "</style>\n",
       "<table border=\"1\" class=\"dataframe\">\n",
       "  <thead>\n",
       "    <tr style=\"text-align: right;\">\n",
       "      <th></th>\n",
       "      <th>CustomerID</th>\n",
       "      <th>Name</th>\n",
       "      <th>Gender</th>\n",
       "      <th>Age</th>\n",
       "      <th>Email</th>\n",
       "      <th>JoinDate</th>\n",
       "      <th>PurchaseAmount</th>\n",
       "      <th>LastLogin</th>\n",
       "    </tr>\n",
       "  </thead>\n",
       "  <tbody>\n",
       "    <tr>\n",
       "      <th>0</th>\n",
       "      <td>1001</td>\n",
       "      <td>Customer 1</td>\n",
       "      <td>NaN</td>\n",
       "      <td>65.0</td>\n",
       "      <td>customer1@example.com</td>\n",
       "      <td>2020-07-23</td>\n",
       "      <td>909.33</td>\n",
       "      <td>2024-03-14</td>\n",
       "    </tr>\n",
       "    <tr>\n",
       "      <th>1</th>\n",
       "      <td>1002</td>\n",
       "      <td>Customer 2</td>\n",
       "      <td>NaN</td>\n",
       "      <td>18.0</td>\n",
       "      <td>customer2@example.com</td>\n",
       "      <td>NaN</td>\n",
       "      <td>771.89</td>\n",
       "      <td>NaN</td>\n",
       "    </tr>\n",
       "  </tbody>\n",
       "</table>\n",
       "</div>"
      ],
      "text/plain": [
       "   CustomerID        Name Gender   Age                  Email    JoinDate  \\\n",
       "0        1001  Customer 1    NaN  65.0  customer1@example.com  2020-07-23   \n",
       "1        1002  Customer 2    NaN  18.0  customer2@example.com         NaN   \n",
       "\n",
       "   PurchaseAmount   LastLogin  \n",
       "0          909.33  2024-03-14  \n",
       "1          771.89         NaN  "
      ]
     },
     "execution_count": 136,
     "metadata": {},
     "output_type": "execute_result"
    }
   ],
   "source": [
    "def read_data(path: str)-> pd.DataFrame:\n",
    "    return pd.read_csv(path)\n",
    "\n",
    "df = read_data(path)\n",
    "df.head(2)"
   ]
  },
  {
   "cell_type": "markdown",
   "metadata": {},
   "source": [
    "## La base de données\n",
    "\n",
    "- CustomerID : Identifiant unique du client\n",
    "- Name : Nom du client\n",
    "- Gender : Genre du client (M, F, null)\n",
    "- Age : Âge du client (peut contenir des valeurs aberrantes ou manquantes)\n",
    "- Email : Adresse e-mail du client\n",
    "- JoinDate : Date d'inscription au service (peut contenir des formats incorrects)\n",
    "- PurchaseAmount : Montant des achats (peut contenir des valeurs manquantes ou incorrectes)\n",
    "- LastLogin : Dernière date de connexion (peut contenir des valeurs nulles)"
   ]
  },
  {
   "cell_type": "markdown",
   "metadata": {},
   "source": [
    "## Niveau - 1: Basique"
   ]
  },
  {
   "cell_type": "code",
   "execution_count": 137,
   "metadata": {},
   "outputs": [
    {
     "name": "stdout",
     "output_type": "stream",
     "text": [
      "le nombre de lignes dans cette base de données est: 50 et le nombre des colonnes est: 8\n",
      "les valeurs manquantes de chaques colonnes: \n",
      " CustomerID         0\n",
      "Name               0\n",
      "Gender            14\n",
      "Age               12\n",
      "Email              0\n",
      "JoinDate          20\n",
      "PurchaseAmount    18\n",
      "LastLogin         29\n",
      "dtype: int64\n",
      "\n",
      "Après remplacement des valeurs manquantes :\n",
      "CustomerID         0\n",
      "Name               0\n",
      "Gender             0\n",
      "Age                0\n",
      "Email              0\n",
      "JoinDate          20\n",
      "PurchaseAmount     0\n",
      "LastLogin         29\n",
      "dtype: int64\n"
     ]
    }
   ],
   "source": [
    "# Combien de lignes et de colonnes contient la base de données\n",
    "print(f\"le nombre de lignes dans cette base de données est: {df.shape[0]} et le nombre des colonnes est: {df.shape[1]}\")\n",
    "\n",
    "# Identifie s'il y'a des valeurs manquantes dans chaque colonne\n",
    "print(\"les valeurs manquantes de chaques colonnes: \\n\", df.isna().sum())\n",
    "\n",
    "# Gestion des valeurs manquantes\n",
    "\n",
    "# 1- Remplacez les valeurs manquantes de la colonne \"Gender\" par \"Unknown\"\n",
    "df[\"Gender\"].fillna(\"Unknown\", inplace=True)\n",
    "# 2- Remplacez Nan sur Age par la médiane des ages\n",
    "df[\"Age\"].fillna(df[\"Age\"].median(), inplace=True)\n",
    "# 3- Remplissez les Nans de \"PurchaseAmount\" par la moyenne.\n",
    "df[\"PurchaseAmount\"].fillna(df[\"PurchaseAmount\"].median(), inplace=True)\n",
    "\n",
    "# Vérifier les modifications\n",
    "print(\"\\nAprès remplacement des valeurs manquantes :\")\n",
    "print(df.isna().sum())"
   ]
  },
  {
   "cell_type": "markdown",
   "metadata": {},
   "source": [
    "## Niveau 2: Intermédiaire\n"
   ]
  },
  {
   "cell_type": "code",
   "execution_count": 138,
   "metadata": {},
   "outputs": [
    {
     "name": "stdout",
     "output_type": "stream",
     "text": [
      "Le nombre des doublons dans la colonne 'CustomerID' est:  0\n",
      "Lower_bound is equal: -18.25 and our upper bound is: 105.75\n",
      "\n",
      "Valeurs aberrantes corrigées dans 'Age' et 'PurchaseAmount' :\n",
      "             Age  PurchaseAmount\n",
      "count  50.000000       50.000000\n",
      "mean   45.840000      503.857800\n",
      "std    21.688293      246.192552\n",
      "min     3.000000       40.380000\n",
      "25%    28.250000      382.007500\n",
      "50%    48.000000      525.540000\n",
      "75%    59.250000      594.942500\n",
      "max    95.000000      981.010000\n"
     ]
    }
   ],
   "source": [
    "# 1 - Suppression des doublons\n",
    "print(\"Le nombre des doublons dans la colonne 'CustomerID' est: \", df[\"CustomerID\"].duplicated().sum())\n",
    "df.drop_duplicates(subset=\"CustomerID\", inplace=True)\n",
    "\n",
    "# 2 - Formatage des colonnes\n",
    "# Assurez que la colonne \"JoinDate\" soit bien au format datetime\n",
    "df[\"JoinDate\"] = pd.to_datetime(df[\"JoinDate\"], errors=\"coerce\")\n",
    "\n",
    "# Convertis la colonne \"LastLogin\" en datetime et remplace Nans par la date la plus ancienne.\n",
    "df[\"LastLogin\"] = pd.to_datetime(df[\"LastLogin\"], errors=\"coerce\")\n",
    "last_date = df[\"LastLogin\"].min()\n",
    "df[\"LastLogin\"].fillna(last_date, inplace=True)\n",
    "\n",
    "# Correction des erreurs dans les données\n",
    "# 1- Identifie et supprime les valeurs aberrantes dans la colonne \"Age\" (ex. : âges négatifs ou trop élevés).\n",
    "\n",
    "Q1 = df[\"Age\"].quantile(0.25)\n",
    "Q3 = df[\"Age\"].quantile(0.75)\n",
    "IQR = Q3 - Q1\n",
    "\n",
    "lower_bound = Q1 - 1.5*IQR\n",
    "upper_bound = Q3 + 1.5*IQR\n",
    "\n",
    "print(f\"Lower_bound is equal: {lower_bound} and our upper bound is: {upper_bound}\")\n",
    "df = df[(df[\"Age\"]>lower_bound)&(df[\"Age\"]<upper_bound)]\n",
    "\n",
    "# Normaliser les montants d'achat : rendre tous les montants négatifs positifs\n",
    "df['PurchaseAmount'] = df['PurchaseAmount'].abs()\n",
    "\n",
    "print(\"\\nValeurs aberrantes corrigées dans 'Age' et 'PurchaseAmount' :\")\n",
    "print(df[['Age', 'PurchaseAmount']].describe())"
   ]
  },
  {
   "cell_type": "markdown",
   "metadata": {},
   "source": [
    "- __errors=\"raise\"__ : Par défaut, cela provoque une erreur si une date invalide est rencontrée.\n",
    "\n",
    "- __errors=\"ignore\"__ : Ignore les erreurs et renvoie les valeurs d'origine non modifiées.\n",
    "\n",
    "- __errors=\"coerce\"__ : Remplace les valeurs invalides par NaT."
   ]
  },
  {
   "cell_type": "markdown",
   "metadata": {},
   "source": [
    "## Niveau 3: Avancé"
   ]
  },
  {
   "cell_type": "code",
   "execution_count": 139,
   "metadata": {},
   "outputs": [
    {
     "data": {
      "text/html": [
       "<div>\n",
       "<style scoped>\n",
       "    .dataframe tbody tr th:only-of-type {\n",
       "        vertical-align: middle;\n",
       "    }\n",
       "\n",
       "    .dataframe tbody tr th {\n",
       "        vertical-align: top;\n",
       "    }\n",
       "\n",
       "    .dataframe thead th {\n",
       "        text-align: right;\n",
       "    }\n",
       "</style>\n",
       "<table border=\"1\" class=\"dataframe\">\n",
       "  <thead>\n",
       "    <tr style=\"text-align: right;\">\n",
       "      <th></th>\n",
       "      <th>CustomerID</th>\n",
       "      <th>Name</th>\n",
       "      <th>Gender</th>\n",
       "      <th>Age</th>\n",
       "      <th>Email</th>\n",
       "      <th>JoinDate</th>\n",
       "      <th>PurchaseAmount</th>\n",
       "      <th>LastLogin</th>\n",
       "      <th>Tenure</th>\n",
       "      <th>PurchaseCategory</th>\n",
       "    </tr>\n",
       "  </thead>\n",
       "  <tbody>\n",
       "    <tr>\n",
       "      <th>0</th>\n",
       "      <td>1001</td>\n",
       "      <td>Customer 1</td>\n",
       "      <td>Unknown</td>\n",
       "      <td>65.0</td>\n",
       "      <td>customer1@example.com</td>\n",
       "      <td>2020-07-23</td>\n",
       "      <td>909.33</td>\n",
       "      <td>2024-03-14</td>\n",
       "      <td>1536.0</td>\n",
       "      <td>élevé</td>\n",
       "    </tr>\n",
       "    <tr>\n",
       "      <th>1</th>\n",
       "      <td>1002</td>\n",
       "      <td>Customer 2</td>\n",
       "      <td>Unknown</td>\n",
       "      <td>18.0</td>\n",
       "      <td>customer2@example.com</td>\n",
       "      <td>NaT</td>\n",
       "      <td>771.89</td>\n",
       "      <td>2024-01-09</td>\n",
       "      <td>NaN</td>\n",
       "      <td>élevé</td>\n",
       "    </tr>\n",
       "  </tbody>\n",
       "</table>\n",
       "</div>"
      ],
      "text/plain": [
       "   CustomerID        Name   Gender   Age                  Email   JoinDate  \\\n",
       "0        1001  Customer 1  Unknown  65.0  customer1@example.com 2020-07-23   \n",
       "1        1002  Customer 2  Unknown  18.0  customer2@example.com        NaT   \n",
       "\n",
       "   PurchaseAmount  LastLogin  Tenure PurchaseCategory  \n",
       "0          909.33 2024-03-14  1536.0            élevé  \n",
       "1          771.89 2024-01-09     NaN            élevé  "
      ]
     },
     "execution_count": 139,
     "metadata": {},
     "output_type": "execute_result"
    }
   ],
   "source": [
    "# Crée une nouvelle colonne \"Tenure\" qui représente le nombre de jours depuis la date d'inscription jusqu'à aujourd'hui.\n",
    "df[\"Tenure\"] = abs((df[\"JoinDate\"] - pd.Timestamp.now()).dt.days)\n",
    "\n",
    "# Crée \"PurchaseCategory\" qui catégorise le montant des achats en faible (moins de 100), moyen (entre 100 et 500), et élevé (plus de 500).\n",
    "def categorize_purchase(amount):\n",
    "    if amount>500:\n",
    "        return \"élevé\"\n",
    "    if amount<100:\n",
    "        return \"faible\"\n",
    "    return \"moyen\"\n",
    "\n",
    "df[\"PurchaseCategory\"] = df[\"PurchaseAmount\"].apply(categorize_purchase)\n",
    "df.head(2)"
   ]
  },
  {
   "cell_type": "markdown",
   "metadata": {},
   "source": [
    "Transformation et regroupement :"
   ]
  },
  {
   "cell_type": "code",
   "execution_count": 159,
   "metadata": {},
   "outputs": [
    {
     "data": {
      "text/html": [
       "<div>\n",
       "<style scoped>\n",
       "    .dataframe tbody tr th:only-of-type {\n",
       "        vertical-align: middle;\n",
       "    }\n",
       "\n",
       "    .dataframe tbody tr th {\n",
       "        vertical-align: top;\n",
       "    }\n",
       "\n",
       "    .dataframe thead th {\n",
       "        text-align: right;\n",
       "    }\n",
       "</style>\n",
       "<table border=\"1\" class=\"dataframe\">\n",
       "  <thead>\n",
       "    <tr style=\"text-align: right;\">\n",
       "      <th></th>\n",
       "      <th>Age moyen</th>\n",
       "      <th>Total Amount</th>\n",
       "      <th>Nbr of clients</th>\n",
       "    </tr>\n",
       "    <tr>\n",
       "      <th>Gender</th>\n",
       "      <th></th>\n",
       "      <th></th>\n",
       "      <th></th>\n",
       "    </tr>\n",
       "  </thead>\n",
       "  <tbody>\n",
       "    <tr>\n",
       "      <th>F</th>\n",
       "      <td>42.909091</td>\n",
       "      <td>11012.80</td>\n",
       "      <td>22</td>\n",
       "    </tr>\n",
       "    <tr>\n",
       "      <th>M</th>\n",
       "      <td>46.785714</td>\n",
       "      <td>5164.26</td>\n",
       "      <td>14</td>\n",
       "    </tr>\n",
       "    <tr>\n",
       "      <th>Unknown</th>\n",
       "      <td>49.500000</td>\n",
       "      <td>9015.83</td>\n",
       "      <td>14</td>\n",
       "    </tr>\n",
       "  </tbody>\n",
       "</table>\n",
       "</div>"
      ],
      "text/plain": [
       "         Age moyen  Total Amount  Nbr of clients\n",
       "Gender                                          \n",
       "F        42.909091      11012.80              22\n",
       "M        46.785714       5164.26              14\n",
       "Unknown  49.500000       9015.83              14"
      ]
     },
     "execution_count": 159,
     "metadata": {},
     "output_type": "execute_result"
    }
   ],
   "source": [
    "#Regroupe les clients par genre et trouve l'âge moyen, le montant total des achats, et le nombre de clients dans chaque groupe.\n",
    "df_grouped = df.groupby(\"Gender\").agg({\"Age\": \"mean\", \"PurchaseAmount\": \"sum\", \"CustomerID\": \"count\"}).rename(\n",
    "    columns={\"Age\": \"Age moyen\", \"PurchaseAmount\": \"Total Amount\", \"CustomerID\": \"Nbr of clients\"})\n",
    "df_grouped"
   ]
  },
  {
   "cell_type": "code",
   "execution_count": 156,
   "metadata": {},
   "outputs": [
    {
     "name": "stdout",
     "output_type": "stream",
     "text": [
      "\n",
      "Montant moyen des achats pour les clients inscrits en 2020 : 538.06\n"
     ]
    }
   ],
   "source": [
    "#Calcule le montant moyen des achats pour les clients qui se sont inscrits en 2023.\n",
    "df[\"JoinYear\"] = df[\"JoinDate\"].dt.year.where(df[\"JoinDate\"].notna(), 0).astype(int)\n",
    "mean_amount = df[df[\"JoinYear\"]==2020][\"PurchaseAmount\"].mean()\n",
    "print(f\"\\nMontant moyen des achats pour les clients inscrits en 2020 : {mean_amount:.2f}\")"
   ]
  },
  {
   "cell_type": "markdown",
   "metadata": {},
   "source": [
    "## Niveau 4: expert"
   ]
  },
  {
   "cell_type": "markdown",
   "metadata": {},
   "source": [
    "Utilise une technique de détection des anomalies (par exemple, isolation forest ou un simple z-score) pour identifier les clients avec des montants d'achat très anormaux."
   ]
  },
  {
   "cell_type": "code",
   "execution_count": 167,
   "metadata": {},
   "outputs": [
    {
     "name": "stdout",
     "output_type": "stream",
     "text": [
      "\n",
      "Anomalies détectées dans 'PurchaseAmount' :\n",
      "    CustomerID  PurchaseAmount   z_score\n",
      "0         1001          909.33  1.646972\n",
      "4         1005          936.94  1.759120\n",
      "9         1010           77.18 -1.733106\n",
      "18        1019           97.18 -1.651869\n",
      "20        1021           98.73 -1.645573\n",
      "21        1022           40.38 -1.882583\n",
      "25        1026          882.04  1.536124\n",
      "26        1027          973.42  1.907297\n",
      "33        1034          109.67 -1.601136\n",
      "39        1040           63.45 -1.788875\n",
      "46        1047          981.01  1.938126\n",
      "49        1050          108.71 -1.605036\n"
     ]
    }
   ],
   "source": [
    "mean = df[\"PurchaseAmount\"].mean()\n",
    "std = df[\"PurchaseAmount\"].std()\n",
    "df[\"z_score\"] = (df[\"PurchaseAmount\"]-mean)/std\n",
    "anomalies = df[df[\"z_score\"].abs()>1.5]\n",
    "print(\"\\nAnomalies détectées dans 'PurchaseAmount' :\")\n",
    "print(anomalies[['CustomerID', 'PurchaseAmount', 'z_score']])\n"
   ]
  },
  {
   "cell_type": "markdown",
   "metadata": {},
   "source": [
    "#### Pipeline de nettoyage de données :\n",
    "\n",
    "Crée un pipeline complet de nettoyage de données avec scikit-learn ou pandas, qui inclut les étapes suivantes :\n",
    "\n",
    "- Traitement des valeurs manquantes.\n",
    "\n",
    "- Conversion des types de données.\n",
    "\n",
    "- Détection et correction des valeurs aberrantes.\n",
    "\n",
    "- Normalisation des montants d'achat."
   ]
  }
 ],
 "metadata": {
  "kernelspec": {
   "display_name": "Python 3",
   "language": "python",
   "name": "python3"
  },
  "language_info": {
   "codemirror_mode": {
    "name": "ipython",
    "version": 3
   },
   "file_extension": ".py",
   "mimetype": "text/x-python",
   "name": "python",
   "nbconvert_exporter": "python",
   "pygments_lexer": "ipython3",
   "version": "3.12.5"
  }
 },
 "nbformat": 4,
 "nbformat_minor": 2
}
