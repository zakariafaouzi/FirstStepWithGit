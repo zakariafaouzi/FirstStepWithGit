{
 "cells": [
  {
   "cell_type": "markdown",
   "metadata": {},
   "source": [
    "## Data Preprocessing: The Titanic Dataset Exploration\n"
   ]
  },
  {
   "cell_type": "markdown",
   "metadata": {},
   "source": [
    "### Introduction to Data Preprocessing\n",
    "\n",
    "Data preprocessing is the heart of any machine learning pipeline, capable of magnifying accuracy when done right or leading to poor performance when overlooked. The quality of the output of any machine learning model is directly proportional to the quality of input data. Hence the Golden Rule, \"Garbage In, Garbage Out.\"\n",
    "\n",
    "In simple terms, the goal of data preprocessing is to cleanse, transform, and format the raw data into a structure that makes it ready for machine learning algorithms. Choosing the right techniques under preprocessing often depends on the specifics of your data, as such, there is no \"one-size-fits-all\" strategy.\n",
    "\n",
    "The section today works like an introduction to this broad ocean of skills and sets the foundation for how you'll approach datasets in ensuing lessons.\n",
    "\n",
    "### Overview of the Titanic Dataset\n",
    "\n",
    "Having understood the concept of preprocessing, it's time to roll up our sleeves and get our hands dirty with the Titanic dataset. We aim to understand the data structure and its characteristics.\n",
    "\n",
    "The Titanic dataset comes pre-packaged in the Seaborn library, a visualization library in Python. Let's go ahead and load the dataset."
   ]
  },
  {
   "cell_type": "code",
   "execution_count": 1,
   "metadata": {},
   "outputs": [],
   "source": [
    "import pandas as pd\n",
    "import seaborn as sns\n",
    "import numpy as np\n",
    "import matplotlib.pyplot as plt\n",
    "\n",
    "# paths to datasets\n",
    "train_path = r\"C:\\Users\\Zakaria-Laptop\\FirstStepWithGit\\data\\train.csv\"\n",
    "test_path = r\"C:\\Users\\Zakaria-Laptop\\FirstStepWithGit\\data\\test.csv\"\n",
    "gender_path = r\"C:\\Users\\Zakaria-Laptop\\FirstStepWithGit\\data\\gender_submission.csv\"\n"
   ]
  },
  {
   "cell_type": "code",
   "execution_count": 2,
   "metadata": {},
   "outputs": [],
   "source": [
    "def read_data(path):\n",
    "    return pd.read_csv(path, sep=\",\")\n",
    "\n",
    "train_df = read_data(train_path)\n",
    "test_df = read_data(test_path)\n",
    "gender_df = read_data(gender_path)"
   ]
  },
  {
   "cell_type": "code",
   "execution_count": 5,
   "metadata": {},
   "outputs": [
    {
     "name": "stdout",
     "output_type": "stream",
     "text": [
      "<class 'pandas.core.frame.DataFrame'>\n",
      "RangeIndex: 891 entries, 0 to 890\n",
      "Data columns (total 12 columns):\n",
      " #   Column       Non-Null Count  Dtype  \n",
      "---  ------       --------------  -----  \n",
      " 0   PassengerId  891 non-null    int64  \n",
      " 1   Survived     891 non-null    int64  \n",
      " 2   Pclass       891 non-null    int64  \n",
      " 3   Name         891 non-null    object \n",
      " 4   Sex          891 non-null    object \n",
      " 5   Age          714 non-null    float64\n",
      " 6   SibSp        891 non-null    int64  \n",
      " 7   Parch        891 non-null    int64  \n",
      " 8   Ticket       891 non-null    object \n",
      " 9   Fare         891 non-null    float64\n",
      " 10  Cabin        204 non-null    object \n",
      " 11  Embarked     889 non-null    object \n",
      "dtypes: float64(2), int64(5), object(5)\n",
      "memory usage: 83.7+ KB\n",
      "None\n",
      "       PassengerId    Survived      Pclass         Age       SibSp  \\\n",
      "count   891.000000  891.000000  891.000000  714.000000  891.000000   \n",
      "mean    446.000000    0.383838    2.308642   29.699118    0.523008   \n",
      "std     257.353842    0.486592    0.836071   14.526497    1.102743   \n",
      "min       1.000000    0.000000    1.000000    0.420000    0.000000   \n",
      "25%     223.500000    0.000000    2.000000   20.125000    0.000000   \n",
      "50%     446.000000    0.000000    3.000000   28.000000    0.000000   \n",
      "75%     668.500000    1.000000    3.000000   38.000000    1.000000   \n",
      "max     891.000000    1.000000    3.000000   80.000000    8.000000   \n",
      "\n",
      "            Parch        Fare  \n",
      "count  891.000000  891.000000  \n",
      "mean     0.381594   32.204208  \n",
      "std      0.806057   49.693429  \n",
      "min      0.000000    0.000000  \n",
      "25%      0.000000    7.910400  \n",
      "50%      0.000000   14.454200  \n",
      "75%      0.000000   31.000000  \n",
      "max      6.000000  512.329200  \n"
     ]
    }
   ],
   "source": [
    "print(train_df.info())\n",
    "print(train_df.describe())"
   ]
  },
  {
   "cell_type": "code",
   "execution_count": 6,
   "metadata": {},
   "outputs": [
    {
     "name": "stdout",
     "output_type": "stream",
     "text": [
      "PassengerId      0\n",
      "Survived         0\n",
      "Pclass           0\n",
      "Name             0\n",
      "Sex              0\n",
      "Age            177\n",
      "SibSp            0\n",
      "Parch            0\n",
      "Ticket           0\n",
      "Fare             0\n",
      "Cabin          687\n",
      "Embarked         2\n",
      "dtype: int64\n"
     ]
    }
   ],
   "source": [
    "print(train_df.isna().sum())"
   ]
  },
  {
   "cell_type": "code",
   "execution_count": 12,
   "metadata": {},
   "outputs": [],
   "source": [
    "train_df[\"Age\"].fillna(train_df[\"Age\"].median(), inplace=True)\n",
    "train_df = train_df.drop(\"Cabin\", axis=1, errors=\"ignore\")"
   ]
  },
  {
   "cell_type": "code",
   "execution_count": 13,
   "metadata": {},
   "outputs": [
    {
     "name": "stdout",
     "output_type": "stream",
     "text": [
      "PassengerId    0\n",
      "Survived       0\n",
      "Pclass         0\n",
      "Name           0\n",
      "Sex            0\n",
      "Age            0\n",
      "SibSp          0\n",
      "Parch          0\n",
      "Ticket         0\n",
      "Fare           0\n",
      "Embarked       2\n",
      "dtype: int64\n"
     ]
    }
   ],
   "source": [
    "print(train_df.isna().sum())"
   ]
  },
  {
   "cell_type": "code",
   "execution_count": 24,
   "metadata": {},
   "outputs": [
    {
     "name": "stdout",
     "output_type": "stream",
     "text": [
      "----- La fréquence de chaque valeur est:\n",
      "\n",
      "frequency of S is: 72.28%\n",
      "frequency of C is: 18.86%\n",
      "frequency of Q is: 8.64%\n",
      "frequency of nan is: 0.00%\n"
     ]
    }
   ],
   "source": [
    "print(\"----- La fréquence de chaque valeur est:\")\n",
    "print()\n",
    "for elm in train_df[\"Embarked\"].unique():\n",
    "    freq = len(train_df[train_df[\"Embarked\"] == elm])/len(train_df)\n",
    "    print(f\"frequency of {elm} is: {freq*100:.2f}%\")\n",
    "\n",
    "train_df[\"Embarked\"].fillna(\"S\", inplace=True)"
   ]
  },
  {
   "cell_type": "code",
   "execution_count": 25,
   "metadata": {},
   "outputs": [
    {
     "name": "stdout",
     "output_type": "stream",
     "text": [
      "PassengerId    0\n",
      "Survived       0\n",
      "Pclass         0\n",
      "Name           0\n",
      "Sex            0\n",
      "Age            0\n",
      "SibSp          0\n",
      "Parch          0\n",
      "Ticket         0\n",
      "Fare           0\n",
      "Embarked       0\n",
      "dtype: int64\n"
     ]
    }
   ],
   "source": [
    "print(train_df.isna().sum())"
   ]
  },
  {
   "attachments": {
    "image.png": {
     "image/png": "[encoded data removed]"
    }
   },
   "cell_type": "markdown",
   "metadata": {},
   "source": [
    "### Outlier Detection and Handling in the Titanic Dataset\n",
    "\n",
    "![image.png](attachment:image.png)"
   ]
  },
  {
   "cell_type": "markdown",
   "metadata": {},
   "source": [
    "Let's now understand these methods better and see how we can apply Z-score, IQR, and Standard Deviation for outlier detection:\n",
    "\n",
    "Z-score: It describes a data point's relationship to the mean of a group of data points. Z-score is measured in terms of standard deviations from the mean. If a Z-score is 0.0, it indicates that the data point's score is identical to the mean score. A Z-score of 1.0 represents a value that is one standard deviation from the mean. Z-scores may be positive or negative, with a positive value indicating the score is above the mean and a negative score indicating it is below the mean."
   ]
  },
  {
   "cell_type": "code",
   "execution_count": 28,
   "metadata": {},
   "outputs": [],
   "source": [
    "# Outlier with z_score\n",
    "sub_data = train_df[\"Fare\"]\n",
    "mean = sub_data.mean()\n",
    "std = sub_data.std()\n",
    "z_score = (sub_data-mean)/std\n",
    "\n",
    "outlier = sub_data[np.abs(z_score)>3]"
   ]
  },
  {
   "attachments": {
    "image.png": {
     "image/png": "[encoded data removed]"
    }
   },
   "cell_type": "markdown",
   "metadata": {},
   "source": [
    "![image.png](attachment:image.png)"
   ]
  },
  {
   "cell_type": "code",
   "execution_count": 32,
   "metadata": {},
   "outputs": [
    {
     "data": {
      "text/plain": [
       "0       7.2500\n",
       "1      71.2833\n",
       "3      53.1000\n",
       "6      51.8625\n",
       "13     31.2750\n",
       "        ...   \n",
       "878     7.8958\n",
       "879    83.1583\n",
       "881     7.8958\n",
       "884     7.0500\n",
       "890     7.7500\n",
       "Name: Fare, Length: 445, dtype: float64"
      ]
     },
     "execution_count": 32,
     "metadata": {},
     "output_type": "execute_result"
    }
   ],
   "source": [
    "# Outlier with IQR\n",
    "Q1 = train_df[\"Fare\"].quantile(0.25)\n",
    "Q3 = train_df[\"Fare\"].quantile(0.75)\n",
    "IQR = Q3 - Q1\n",
    "\n",
    "bounder_inf = Q1 - 1.5*IQR\n",
    "bounder_sup = Q3 + 1.5*IQR\n",
    "outliers = train_df[\"Fare\"][(train_df[\"Fare\"]>Q3) | (train_df[\"Fare\"]<Q1)]\n",
    "outliers"
   ]
  },
  {
   "cell_type": "markdown",
   "metadata": {},
   "source": [
    "### Handling Outliers\n",
    "\n",
    "After identifying outliers, we'll need to decide on the best strategy for handling them, such as:\n",
    "\n",
    "Dropping: If the outlier does not add valuable information or is significantly skewing our data, one option to consider is dropping the outlier.\n",
    "\n",
    "Capping: We could also consider replacing the outlier value with a certain maximum and/or minimum value.\n",
    "\n",
    "Transforming: Techniques such as log transformations are especially effective when dealing with skewed data. This type of transformation can reduce the impact of the outliers."
   ]
  },
  {
   "cell_type": "code",
   "execution_count": 34,
   "metadata": {},
   "outputs": [],
   "source": [
    "# Drop rows with missing 'age' values\n",
    "titanic_df = train_df.dropna(subset=['Age'])\n",
    "\n",
    "# Calculate the upper bound for 'age'\n",
    "Q1 = titanic_df['Age'].quantile(0.25)\n",
    "Q3 = titanic_df['Age'].quantile(0.75)\n",
    "IQR = Q3 - Q1\n",
    "upper_bound = Q3 + 1.5 * IQR\n",
    "\n",
    "# Cap the outliers for 'age'\n",
    "titanic_df['Age'] = np.where(titanic_df['Age'] > upper_bound, upper_bound, titanic_df['Age'])\n",
    "\n",
    "# Calculate the upper bound for 'fare'\n",
    "Q1 = titanic_df['Fare'].quantile(0.25)\n",
    "Q3 = titanic_df['Fare'].quantile(0.75)\n",
    "IQR = Q3 - Q1\n",
    "upper_bound = Q3 + 1.5 * IQR\n",
    "\n",
    "# Cap the outliers for 'fare'\n",
    "titanic_df['Fare'] = np.where(titanic_df['Fare'] > upper_bound, upper_bound, titanic_df['Fare'])"
   ]
  },
  {
   "cell_type": "markdown",
   "metadata": {},
   "source": [
    "### Understanding Data Transformation\n",
    "\n",
    "Data transformation is at the heart of data analysis and machine learning. It's about converting raw data into a format that's amenable to machine learning models and improving their performance. To illustrate better, imagine you have a dataset containing passengers' ages and incomes. Age could range from 1 to 90, while income ranges from 1000 to 90000. Notice how different these scales are? To reduce the bias in machine learning models due to these vastly differing scales, we would normalize the features with numerical scaling.\n",
    "\n",
    "On the other hand, we may have categorical features like the 'Embarked' port in the Titanic dataset. Machine learning models don't handle categorical data well, so we need to convert them into a numeric format through One-Hot Encoding.\n",
    "\n",
    "Let's have a quick look at an example DataFrame before any transformation."
   ]
  },
  {
   "cell_type": "code",
   "execution_count": 50,
   "metadata": {},
   "outputs": [
    {
     "name": "stdout",
     "output_type": "stream",
     "text": [
      "Before Transformation:\n",
      "    age  income embarked\n",
      "0   23    5000        S\n",
      "1   45    7000        C\n",
      "2   56   11000        Q\n",
      "3   78    8000        S\n",
      "4   21    7600        S\n"
     ]
    }
   ],
   "source": [
    "example_data = pd.DataFrame({\n",
    "    'age': [23, 45, 56, 78, 21],\n",
    "    'income': [5000, 7000, 11000, 8000, 7600],\n",
    "    'embarked': ['S', 'C', 'Q', 'S', 'S']\n",
    "})\n",
    "print(\"Before Transformation:\\n\", example_data)"
   ]
  },
  {
   "cell_type": "code",
   "execution_count": 51,
   "metadata": {},
   "outputs": [
    {
     "name": "stdout",
     "output_type": "stream",
     "text": [
      "After numerical feature scaling:\n",
      "         age    income\n",
      "0  0.035088  0.000000\n",
      "1  0.421053  0.333333\n",
      "2  0.614035  1.000000\n",
      "3  1.000000  0.500000\n",
      "4  0.000000  0.433333\n"
     ]
    }
   ],
   "source": [
    "from sklearn.preprocessing import MinMaxScaler\n",
    "\n",
    "scaler = MinMaxScaler()\n",
    "example_data[[\"age\", \"income\"]] = scaler.fit_transform(example_data[[\"age\", \"income\"]])\n",
    "print('After numerical feature scaling:\\n', example_data[['age','income']].head())\n"
   ]
  },
  {
   "cell_type": "code",
   "execution_count": 52,
   "metadata": {},
   "outputs": [],
   "source": [
    "example_data = pd.get_dummies(example_data, columns=[\"embarked\"], dtype=int)"
   ]
  },
  {
   "cell_type": "code",
   "execution_count": 53,
   "metadata": {},
   "outputs": [
    {
     "data": {
      "text/html": [
       "<div>\n",
       "<style scoped>\n",
       "    .dataframe tbody tr th:only-of-type {\n",
       "        vertical-align: middle;\n",
       "    }\n",
       "\n",
       "    .dataframe tbody tr th {\n",
       "        vertical-align: top;\n",
       "    }\n",
       "\n",
       "    .dataframe thead th {\n",
       "        text-align: right;\n",
       "    }\n",
       "</style>\n",
       "<table border=\"1\" class=\"dataframe\">\n",
       "  <thead>\n",
       "    <tr style=\"text-align: right;\">\n",
       "      <th></th>\n",
       "      <th>age</th>\n",
       "      <th>income</th>\n",
       "      <th>embarked_C</th>\n",
       "      <th>embarked_Q</th>\n",
       "      <th>embarked_S</th>\n",
       "    </tr>\n",
       "  </thead>\n",
       "  <tbody>\n",
       "    <tr>\n",
       "      <th>0</th>\n",
       "      <td>0.035088</td>\n",
       "      <td>0.000000</td>\n",
       "      <td>0</td>\n",
       "      <td>0</td>\n",
       "      <td>1</td>\n",
       "    </tr>\n",
       "    <tr>\n",
       "      <th>1</th>\n",
       "      <td>0.421053</td>\n",
       "      <td>0.333333</td>\n",
       "      <td>1</td>\n",
       "      <td>0</td>\n",
       "      <td>0</td>\n",
       "    </tr>\n",
       "    <tr>\n",
       "      <th>2</th>\n",
       "      <td>0.614035</td>\n",
       "      <td>1.000000</td>\n",
       "      <td>0</td>\n",
       "      <td>1</td>\n",
       "      <td>0</td>\n",
       "    </tr>\n",
       "    <tr>\n",
       "      <th>3</th>\n",
       "      <td>1.000000</td>\n",
       "      <td>0.500000</td>\n",
       "      <td>0</td>\n",
       "      <td>0</td>\n",
       "      <td>1</td>\n",
       "    </tr>\n",
       "    <tr>\n",
       "      <th>4</th>\n",
       "      <td>0.000000</td>\n",
       "      <td>0.433333</td>\n",
       "      <td>0</td>\n",
       "      <td>0</td>\n",
       "      <td>1</td>\n",
       "    </tr>\n",
       "  </tbody>\n",
       "</table>\n",
       "</div>"
      ],
      "text/plain": [
       "        age    income  embarked_C  embarked_Q  embarked_S\n",
       "0  0.035088  0.000000           0           0           1\n",
       "1  0.421053  0.333333           1           0           0\n",
       "2  0.614035  1.000000           0           1           0\n",
       "3  1.000000  0.500000           0           0           1\n",
       "4  0.000000  0.433333           0           0           1"
      ]
     },
     "execution_count": 53,
     "metadata": {},
     "output_type": "execute_result"
    }
   ],
   "source": [
    "example_data"
   ]
  }
 ],
 "metadata": {
  "kernelspec": {
   "display_name": "Python 3",
   "language": "python",
   "name": "python3"
  },
  "language_info": {
   "codemirror_mode": {
    "name": "ipython",
    "version": 3
   },
   "file_extension": ".py",
   "mimetype": "text/x-python",
   "name": "python",
   "nbconvert_exporter": "python",
   "pygments_lexer": "ipython3",
   "version": "3.12.5"
  }
 },
 "nbformat": 4,
 "nbformat_minor": 2
}
